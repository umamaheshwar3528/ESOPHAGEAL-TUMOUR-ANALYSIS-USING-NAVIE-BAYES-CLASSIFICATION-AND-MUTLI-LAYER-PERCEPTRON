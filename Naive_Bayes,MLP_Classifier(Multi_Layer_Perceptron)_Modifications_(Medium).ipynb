{
  "cells": [
    {
      "cell_type": "markdown",
      "metadata": {
        "id": "gFv4v3wuEg7l"
      },
      "source": [
        "**IMPORTING MODULES**"
      ]
    },
    {
      "cell_type": "code",
      "execution_count": null,
      "metadata": {
        "id": "uNwKiTSJ91kX"
      },
      "outputs": [],
      "source": [
        "import numpy as np\n",
        "import pandas as pd\n",
        "from sklearn import *\n",
        "from sklearn.neural_network import MLPClassifier\n",
        "from sklearn.naive_bayes import BernoulliNB\n",
        "from sklearn.metrics import (accuracy_score,recall_score,precision_score,f1_score)\n",
        "from sklearn.metrics import classification_report"
      ]
    },
    {
      "cell_type": "markdown",
      "metadata": {
        "id": "7k4oJrGXEp5h"
      },
      "source": [
        "**DATA PROCESSING**\n"
      ]
    },
    {
      "cell_type": "code",
      "execution_count": null,
      "metadata": {
        "colab": {
          "base_uri": "https://localhost:8080/"
        },
        "id": "kzrWPxpm-kM7",
        "outputId": "6b194106-65f2-4127-a846-7429ac14228c"
      },
      "outputs": [
        {
          "output_type": "stream",
          "name": "stdout",
          "text": [
            "  Patient_ID  Temparature              Chills           Swallowing  \\\n",
            "0     149097        101.4  NoLowIntenseChills  DifficultSwallowing   \n",
            "1     149098         99.4  NoLowIntenseChills  DifficultSwallowing   \n",
            "2     149112         98.1    LowIntenseChills       EasySwallowing   \n",
            "3     149119         97.7    LowIntenseChills  DifficultSwallowing   \n",
            "4     149122         98.3    LowIntenseChills  DifficultSwallowing   \n",
            "\n",
            "          FoodFlow        StomachFeel  PainInThroat  PainInChest  \\\n",
            "0  FoodNotStucking  NoFullnessFeeling    ThroatPain    ChestPain   \n",
            "1  FoodNotStucking    FullnessFeeling    ThroatPain  NoChestPain   \n",
            "2     FoodStucking    FullnessFeeling    ThroatPain    ChestPain   \n",
            "3  FoodNotStucking    FullnessFeeling  NoThroatPain  NoChestPain   \n",
            "4  FoodNotStucking  NoFullnessFeeling    ThroatPain    ChestPain   \n",
            "\n",
            "    PainDuration         Cough    Digestion     Apetite          Sleep  \\\n",
            "0  ShortTimePain       NoCough  DigestionOK   ApetiteOK    AbleToSleep   \n",
            "1   LongTimePain       NoCough  Indigestion  LowApetite  UnableToSleep   \n",
            "2  ShortTimePain  ChronicCough  DigestionOK   ApetiteOK    AbleToSleep   \n",
            "3   LongTimePain  ChronicCough  DigestionOK  LowApetite    AbleToSleep   \n",
            "4  ShortTimePain  ChronicCough  Indigestion   ApetiteOK  UnableToSleep   \n",
            "\n",
            "              Shakes Probability  \n",
            "0          NoShaking         Low  \n",
            "1          NoShaking      Medium  \n",
            "2  ShakingwithChills      Medium  \n",
            "3  ShakingwithChills      Medium  \n",
            "4          NoShaking      Medium  \n",
            "Patient_ID      0\n",
            "Temparature     0\n",
            "Chills          0\n",
            "Swallowing      0\n",
            "FoodFlow        0\n",
            "StomachFeel     0\n",
            "PainInThroat    0\n",
            "PainInChest     0\n",
            "PainDuration    0\n",
            "Cough           0\n",
            "Digestion       0\n",
            "Apetite         0\n",
            "Sleep           0\n",
            "Shakes          0\n",
            "Probability     0\n",
            "dtype: int64\n"
          ]
        }
      ],
      "source": [
        "df = pd.read_csv('/content/drive/MyDrive/Major Project Dataset/esopset.csv')\n",
        "print(df.head())\n",
        "print(df.isnull().sum())"
      ]
    },
    {
      "cell_type": "code",
      "execution_count": null,
      "metadata": {
        "colab": {
          "base_uri": "https://localhost:8080/"
        },
        "id": "jiIwU9iRODmo",
        "outputId": "a8c2333c-0949-4305-b201-011b10cab91b"
      },
      "outputs": [
        {
          "output_type": "stream",
          "name": "stdout",
          "text": [
            "Drive already mounted at /content/drive; to attempt to forcibly remount, call drive.mount(\"/content/drive\", force_remount=True).\n"
          ]
        }
      ],
      "source": [
        "from google.colab import drive\n",
        "drive.mount('/content/drive')"
      ]
    },
    {
      "cell_type": "code",
      "execution_count": null,
      "metadata": {
        "id": "TfLqkuEu9DOe"
      },
      "outputs": [],
      "source": [
        "bins = [96.0,98.4,105.0]\n",
        "names = ['NormalTemp', 'Fever']\n",
        "df['Temparature'] = pd.cut(df['Temparature'], bins, labels=names)\n",
        "df[\"Temparature\"] = df[\"Temparature\"].map({'Fever':1,'NormalTemp':0})\n",
        "df[\"Chills\"] = df[\"Chills\"].map({'LowIntenseChills':1,'NoLowIntenseChills':0})\n",
        "df[\"Swallowing\"] = df[\"Swallowing\"].map({'DifficultSwallowing':1,'EasySwallowing':0})\n",
        "df[\"FoodFlow\"] = df[\"FoodFlow\"].map({'FoodStucking':1,'FoodNotStucking':0})\n",
        "df[\"StomachFeel\"] = df[\"StomachFeel\"].map({'FullnessFeeling':1,'NoFullnessFeeling':0})\n",
        "df[\"PainInThroat\"] = df[\"PainInThroat\"].map({'ThroatPain':1,'NoThroatPain':0})\n",
        "df[\"PainInChest\"] = df[\"PainInChest\"].map({'ChestPain':1,'NoChestPain':0})\n",
        "df[\"PainDuration\"] = df[\"PainDuration\"].map({'LongTimePain':1,'ShortTimePain':0})\n",
        "df[\"Cough\"] = df[\"Cough\"].map({'ChronicCough':1,'NoCough':0})\n",
        "df[\"Digestion\"] = df[\"Digestion\"].map({'Indigestion':1,'DigestionOK':0})\n",
        "df[\"Apetite\"] = df[\"Apetite\"].map({'LowApetite':1,'ApetiteOK':0})\n",
        "df[\"Sleep\"] = df[\"Sleep\"].map({'UnableToSleep':1,'AbleToSleep':0})\n",
        "df[\"Shakes\"] = df[\"Shakes\"].map({'ShakingwithChills':1,'NoShaking':0})\n",
        "df[\"Probability\"] = df[\"Probability\"].map({'High':2,'Medium':1,'Low':0})\n",
        "data = df[[\"Temparature\",\"Chills\",\"Swallowing\",\"FoodFlow\",\"StomachFeel\",\"PainInThroat\",\"PainInChest\",\"PainDuration\",\"Cough\",\"Digestion\",\"Apetite\",\"Sleep\",\"Shakes\",\"Probability\"]].to_numpy()\n"
      ]
    },
    {
      "cell_type": "markdown",
      "metadata": {
        "id": "82zXwMGGPP8D"
      },
      "source": [
        "**TRAINING AND TESTING**"
      ]
    },
    {
      "cell_type": "code",
      "execution_count": null,
      "metadata": {
        "id": "cusodsu--kPl"
      },
      "outputs": [],
      "source": [
        "inputs = data[:,:-1]\n",
        "outputs = data[:, -1]\n",
        "training_inputs = inputs[:2880]\n",
        "training_outputs = outputs[:2880]\n",
        "testing_inputs = inputs[720:1440]\n",
        "testing_outputs = outputs[720:1440]\n"
      ]
    },
    {
      "cell_type": "code",
      "execution_count": null,
      "metadata": {
        "colab": {
          "base_uri": "https://localhost:8080/",
          "height": 270
        },
        "id": "vROBOyrxaTaF",
        "outputId": "af7fbcee-7d3f-4e94-a469-4ca0531229be"
      },
      "outputs": [
        {
          "output_type": "execute_result",
          "data": {
            "text/plain": [
              "  Patient_ID Temparature  Chills  Swallowing  FoodFlow  StomachFeel  \\\n",
              "0     149097           1       0           1         0            0   \n",
              "1     149098           1       0           1         0            1   \n",
              "2     149112           0       1           0         1            1   \n",
              "3     149119           0       1           1         0            1   \n",
              "4     149122           0       1           1         0            0   \n",
              "\n",
              "   PainInThroat  PainInChest  PainDuration  Cough  Digestion  Apetite  Sleep  \\\n",
              "0             1            1             0      0          0        0      0   \n",
              "1             1            0             1      0          1        1      1   \n",
              "2             1            1             0      1          0        0      0   \n",
              "3             0            0             1      1          0        1      0   \n",
              "4             1            1             0      1          1        0      1   \n",
              "\n",
              "   Shakes  Probability  \n",
              "0       0            0  \n",
              "1       0            1  \n",
              "2       1            1  \n",
              "3       1            1  \n",
              "4       0            1  "
            ],
            "text/html": [
              "\n",
              "  <div id=\"df-7e80f990-7547-440e-8d01-751623fe1425\">\n",
              "    <div class=\"colab-df-container\">\n",
              "      <div>\n",
              "<style scoped>\n",
              "    .dataframe tbody tr th:only-of-type {\n",
              "        vertical-align: middle;\n",
              "    }\n",
              "\n",
              "    .dataframe tbody tr th {\n",
              "        vertical-align: top;\n",
              "    }\n",
              "\n",
              "    .dataframe thead th {\n",
              "        text-align: right;\n",
              "    }\n",
              "</style>\n",
              "<table border=\"1\" class=\"dataframe\">\n",
              "  <thead>\n",
              "    <tr style=\"text-align: right;\">\n",
              "      <th></th>\n",
              "      <th>Patient_ID</th>\n",
              "      <th>Temparature</th>\n",
              "      <th>Chills</th>\n",
              "      <th>Swallowing</th>\n",
              "      <th>FoodFlow</th>\n",
              "      <th>StomachFeel</th>\n",
              "      <th>PainInThroat</th>\n",
              "      <th>PainInChest</th>\n",
              "      <th>PainDuration</th>\n",
              "      <th>Cough</th>\n",
              "      <th>Digestion</th>\n",
              "      <th>Apetite</th>\n",
              "      <th>Sleep</th>\n",
              "      <th>Shakes</th>\n",
              "      <th>Probability</th>\n",
              "    </tr>\n",
              "  </thead>\n",
              "  <tbody>\n",
              "    <tr>\n",
              "      <th>0</th>\n",
              "      <td>149097</td>\n",
              "      <td>1</td>\n",
              "      <td>0</td>\n",
              "      <td>1</td>\n",
              "      <td>0</td>\n",
              "      <td>0</td>\n",
              "      <td>1</td>\n",
              "      <td>1</td>\n",
              "      <td>0</td>\n",
              "      <td>0</td>\n",
              "      <td>0</td>\n",
              "      <td>0</td>\n",
              "      <td>0</td>\n",
              "      <td>0</td>\n",
              "      <td>0</td>\n",
              "    </tr>\n",
              "    <tr>\n",
              "      <th>1</th>\n",
              "      <td>149098</td>\n",
              "      <td>1</td>\n",
              "      <td>0</td>\n",
              "      <td>1</td>\n",
              "      <td>0</td>\n",
              "      <td>1</td>\n",
              "      <td>1</td>\n",
              "      <td>0</td>\n",
              "      <td>1</td>\n",
              "      <td>0</td>\n",
              "      <td>1</td>\n",
              "      <td>1</td>\n",
              "      <td>1</td>\n",
              "      <td>0</td>\n",
              "      <td>1</td>\n",
              "    </tr>\n",
              "    <tr>\n",
              "      <th>2</th>\n",
              "      <td>149112</td>\n",
              "      <td>0</td>\n",
              "      <td>1</td>\n",
              "      <td>0</td>\n",
              "      <td>1</td>\n",
              "      <td>1</td>\n",
              "      <td>1</td>\n",
              "      <td>1</td>\n",
              "      <td>0</td>\n",
              "      <td>1</td>\n",
              "      <td>0</td>\n",
              "      <td>0</td>\n",
              "      <td>0</td>\n",
              "      <td>1</td>\n",
              "      <td>1</td>\n",
              "    </tr>\n",
              "    <tr>\n",
              "      <th>3</th>\n",
              "      <td>149119</td>\n",
              "      <td>0</td>\n",
              "      <td>1</td>\n",
              "      <td>1</td>\n",
              "      <td>0</td>\n",
              "      <td>1</td>\n",
              "      <td>0</td>\n",
              "      <td>0</td>\n",
              "      <td>1</td>\n",
              "      <td>1</td>\n",
              "      <td>0</td>\n",
              "      <td>1</td>\n",
              "      <td>0</td>\n",
              "      <td>1</td>\n",
              "      <td>1</td>\n",
              "    </tr>\n",
              "    <tr>\n",
              "      <th>4</th>\n",
              "      <td>149122</td>\n",
              "      <td>0</td>\n",
              "      <td>1</td>\n",
              "      <td>1</td>\n",
              "      <td>0</td>\n",
              "      <td>0</td>\n",
              "      <td>1</td>\n",
              "      <td>1</td>\n",
              "      <td>0</td>\n",
              "      <td>1</td>\n",
              "      <td>1</td>\n",
              "      <td>0</td>\n",
              "      <td>1</td>\n",
              "      <td>0</td>\n",
              "      <td>1</td>\n",
              "    </tr>\n",
              "  </tbody>\n",
              "</table>\n",
              "</div>\n",
              "      <button class=\"colab-df-convert\" onclick=\"convertToInteractive('df-7e80f990-7547-440e-8d01-751623fe1425')\"\n",
              "              title=\"Convert this dataframe to an interactive table.\"\n",
              "              style=\"display:none;\">\n",
              "        \n",
              "  <svg xmlns=\"http://www.w3.org/2000/svg\" height=\"24px\"viewBox=\"0 0 24 24\"\n",
              "       width=\"24px\">\n",
              "    <path d=\"M0 0h24v24H0V0z\" fill=\"none\"/>\n",
              "    <path d=\"M18.56 5.44l.94 2.06.94-2.06 2.06-.94-2.06-.94-.94-2.06-.94 2.06-2.06.94zm-11 1L8.5 8.5l.94-2.06 2.06-.94-2.06-.94L8.5 2.5l-.94 2.06-2.06.94zm10 10l.94 2.06.94-2.06 2.06-.94-2.06-.94-.94-2.06-.94 2.06-2.06.94z\"/><path d=\"M17.41 7.96l-1.37-1.37c-.4-.4-.92-.59-1.43-.59-.52 0-1.04.2-1.43.59L10.3 9.45l-7.72 7.72c-.78.78-.78 2.05 0 2.83L4 21.41c.39.39.9.59 1.41.59.51 0 1.02-.2 1.41-.59l7.78-7.78 2.81-2.81c.8-.78.8-2.07 0-2.86zM5.41 20L4 18.59l7.72-7.72 1.47 1.35L5.41 20z\"/>\n",
              "  </svg>\n",
              "      </button>\n",
              "      \n",
              "  <style>\n",
              "    .colab-df-container {\n",
              "      display:flex;\n",
              "      flex-wrap:wrap;\n",
              "      gap: 12px;\n",
              "    }\n",
              "\n",
              "    .colab-df-convert {\n",
              "      background-color: #E8F0FE;\n",
              "      border: none;\n",
              "      border-radius: 50%;\n",
              "      cursor: pointer;\n",
              "      display: none;\n",
              "      fill: #1967D2;\n",
              "      height: 32px;\n",
              "      padding: 0 0 0 0;\n",
              "      width: 32px;\n",
              "    }\n",
              "\n",
              "    .colab-df-convert:hover {\n",
              "      background-color: #E2EBFA;\n",
              "      box-shadow: 0px 1px 2px rgba(60, 64, 67, 0.3), 0px 1px 3px 1px rgba(60, 64, 67, 0.15);\n",
              "      fill: #174EA6;\n",
              "    }\n",
              "\n",
              "    [theme=dark] .colab-df-convert {\n",
              "      background-color: #3B4455;\n",
              "      fill: #D2E3FC;\n",
              "    }\n",
              "\n",
              "    [theme=dark] .colab-df-convert:hover {\n",
              "      background-color: #434B5C;\n",
              "      box-shadow: 0px 1px 3px 1px rgba(0, 0, 0, 0.15);\n",
              "      filter: drop-shadow(0px 1px 2px rgba(0, 0, 0, 0.3));\n",
              "      fill: #FFFFFF;\n",
              "    }\n",
              "  </style>\n",
              "\n",
              "      <script>\n",
              "        const buttonEl =\n",
              "          document.querySelector('#df-7e80f990-7547-440e-8d01-751623fe1425 button.colab-df-convert');\n",
              "        buttonEl.style.display =\n",
              "          google.colab.kernel.accessAllowed ? 'block' : 'none';\n",
              "\n",
              "        async function convertToInteractive(key) {\n",
              "          const element = document.querySelector('#df-7e80f990-7547-440e-8d01-751623fe1425');\n",
              "          const dataTable =\n",
              "            await google.colab.kernel.invokeFunction('convertToInteractive',\n",
              "                                                     [key], {});\n",
              "          if (!dataTable) return;\n",
              "\n",
              "          const docLinkHtml = 'Like what you see? Visit the ' +\n",
              "            '<a target=\"_blank\" href=https://colab.research.google.com/notebooks/data_table.ipynb>data table notebook</a>'\n",
              "            + ' to learn more about interactive tables.';\n",
              "          element.innerHTML = '';\n",
              "          dataTable['output_type'] = 'display_data';\n",
              "          await google.colab.output.renderOutput(dataTable, element);\n",
              "          const docLink = document.createElement('div');\n",
              "          docLink.innerHTML = docLinkHtml;\n",
              "          element.appendChild(docLink);\n",
              "        }\n",
              "      </script>\n",
              "    </div>\n",
              "  </div>\n",
              "  "
            ]
          },
          "metadata": {},
          "execution_count": 49
        }
      ],
      "source": [
        "df.head()\n"
      ]
    },
    {
      "cell_type": "markdown",
      "metadata": {
        "id": "Iwnmguw_3ODb"
      },
      "source": [
        "### **MLP CLASSIFIER**"
      ]
    },
    {
      "cell_type": "code",
      "execution_count": null,
      "metadata": {
        "colab": {
          "base_uri": "https://localhost:8080/"
        },
        "id": "zdyoWtin3O2D",
        "outputId": "1c555d26-e1c4-4b72-bbd9-0c0c66fb8aeb"
      },
      "outputs": [
        {
          "output_type": "stream",
          "name": "stdout",
          "text": [
            "              precision    recall  f1-score   support\n",
            "\n",
            "           0       0.97      0.97      0.97        32\n",
            "           1       0.99      0.99      0.99       606\n",
            "           2       0.96      0.91      0.94        82\n",
            "\n",
            "    accuracy                           0.98       720\n",
            "   macro avg       0.97      0.96      0.97       720\n",
            "weighted avg       0.98      0.98      0.98       720\n",
            "\n"
          ]
        }
      ],
      "source": [
        "classifier =MLPClassifier(max_iter=500,activation=\"relu\") \n",
        "classifier.fit(training_inputs, training_outputs)\n",
        "predictions = classifier.predict(testing_inputs)\n",
        "print(classification_report(testing_outputs,predictions,target_names=None))\n"
      ]
    },
    {
      "cell_type": "markdown",
      "metadata": {
        "id": "e5T8t0tfE7Q0"
      },
      "source": [
        "**PERFORMANCE METRICS**"
      ]
    },
    {
      "cell_type": "code",
      "execution_count": null,
      "metadata": {
        "colab": {
          "base_uri": "https://localhost:8080/"
        },
        "id": "9nPnrYgV-kSI",
        "outputId": "e8b9b81d-e366-4ff9-a462-1a602fab4ca0"
      },
      "outputs": [
        {
          "output_type": "stream",
          "name": "stdout",
          "text": [
            "MLP PERFORMANCE METRICS :\n",
            "Accuracy: 98.33333333333333\n",
            "Recall :99.33993399339934\n",
            "Precision : 98.68852459016394\n",
            "f1Score : 99.01315789473685\n"
          ]
        }
      ],
      "source": [
        "accuracy = 100.0 * accuracy_score(testing_outputs, predictions)\n",
        "recall=100*recall_score(testing_outputs, predictions,average=None)\n",
        "precision=100*precision_score(testing_outputs, predictions,average=None) \n",
        "f1score=100*f1_score(testing_outputs, predictions,average=None) \n",
        "print(\"MLP PERFORMANCE METRICS :\")                                        \n",
        "print (\"Accuracy: \" + str(accuracy))\n",
        "print (\"Recall :\" + str(recall[1]))\n",
        "print (\"Precision : \" + str(precision[1]))\n",
        "print (\"f1Score : \" + str(f1score[1]))"
      ]
    },
    {
      "cell_type": "markdown",
      "metadata": {
        "id": "-IrnVEecwE4M"
      },
      "source": [
        "**PREDICTION**"
      ]
    },
    {
      "cell_type": "code",
      "execution_count": null,
      "metadata": {
        "colab": {
          "base_uri": "https://localhost:8080/"
        },
        "id": "nxmbHENcwN30",
        "outputId": "ecc427a0-6d6b-4b50-fc86-f008c6659e38"
      },
      "outputs": [
        {
          "output_type": "stream",
          "name": "stdout",
          "text": [
            "MLP Classifier Prediction on the test set [[1, 0, 1, 0, 1, 1, 0, 1, 0, 1, 1, 1, 0]]\n",
            "is : Medium\n",
            "MLP Classifier Prediction on the test set [[0, 1, 1, 0, 1, 0, 0, 1, 1, 0, 1, 0, 0]]\n",
            "is : Medium\n",
            "MLP Classifier Prediction on the test set [[1, 1, 0, 0, 0, 0, 0, 0, 0, 1, 1, 1, 0]]\n",
            "is : Medium\n",
            "MLP Classifier Prediction on the test set [[1, 0, 1, 1, 0, 1, 0, 0, 1, 0, 0, 1, 1]]\n",
            "is : Medium\n",
            "MLP Classifier Prediction on the test set [[1, 1, 1, 1, 0, 0, 0, 1, 0, 0, 1, 0, 0]]\n",
            "is : Medium\n",
            "MLP Classifier Prediction on the test set [[1, 0, 1, 0, 1, 0, 0, 0, 1, 0, 0, 1, 0]]\n",
            "is : Medium\n",
            "MLP Classifier Prediction on the test set [[1, 0, 1, 0, 1, 1, 0, 0, 1, 0, 1, 1, 0]]\n",
            "is : Medium\n",
            "MLP Classifier Prediction on the test set [[1, 0, 0, 0, 0, 0, 0, 0, 0, 0, 0, 1, 1]]\n",
            "is : Low\n",
            "MLP Classifier Prediction on the test set [[1, 1, 1, 1, 0, 1, 0, 0, 0, 1, 0, 1, 0]]\n",
            "is : Medium\n",
            "MLP Classifier Prediction on the test set [[1, 1, 1, 0, 0, 1, 0, 1, 0, 1, 1, 0, 0]]\n",
            "is : Medium\n"
          ]
        }
      ],
      "source": [
        "testSet = [[1,0,1,0,1,1,0,1,0,1,1,1,0]]\n",
        "test = pd.DataFrame(testSet)\n",
        "predictions = classifier.predict(test)\n",
        "prediction=\"\"\n",
        "if(predictions==1):\n",
        "  prediction=\"Medium\"\n",
        "elif(predictions==2):\n",
        "  prediction=\"High\"\n",
        "else:\n",
        "  prediction=\"Low\"\n",
        "print('MLP Classifier Prediction on the test set',testSet)\n",
        "print(\"is :\",prediction)\n",
        "testSet = [[0,1,1,0,1,0,0,1,1,0,1,0,0]]\n",
        "test = pd.DataFrame(testSet)\n",
        "predictions = classifier.predict(test)\n",
        "prediction=\"\"\n",
        "if(predictions==1):\n",
        "  prediction=\"Medium\"\n",
        "elif(predictions==2):\n",
        "  prediction=\"High\"\n",
        "else:\n",
        "  prediction=\"Low\"\n",
        "print('MLP Classifier Prediction on the test set',testSet) \n",
        "print(\"is :\",prediction)\n",
        "testSet = [[1,1,0,0,0,0,0,0,0,1,1,1,0]]\n",
        "test = pd.DataFrame(testSet)\n",
        "predictions = classifier.predict(test)\n",
        "prediction=\"\"\n",
        "if(predictions==1):\n",
        "  prediction=\"Medium\"\n",
        "elif(predictions==2):\n",
        "  prediction=\"High\"\n",
        "else:\n",
        "  prediction=\"Low\"\n",
        "print('MLP Classifier Prediction on the test set',testSet)\n",
        "print(\"is :\",prediction)\n",
        "testSet = [[1,0,1,1,0,1,0,0,1,0,0,1,1]]\n",
        "test = pd.DataFrame(testSet)\n",
        "predictions = classifier.predict(test)\n",
        "prediction=\"\"\n",
        "if(predictions==1):\n",
        "  prediction=\"Medium\"\n",
        "elif(predictions==2):\n",
        "  prediction=\"High\"\n",
        "else:\n",
        "  prediction=\"Low\"\n",
        "print('MLP Classifier Prediction on the test set',testSet)\n",
        "print(\"is :\",prediction)\n",
        "testSet = [[1,1,1,1,0,0,0,1,0,0,1,0,0]]\n",
        "test = pd.DataFrame(testSet)\n",
        "predictions = classifier.predict(test)\n",
        "prediction=\"\"\n",
        "if(predictions==1):\n",
        "  prediction=\"Medium\"\n",
        "elif(predictions==2):\n",
        "  prediction=\"High\"\n",
        "else:\n",
        "  prediction=\"Low\"\n",
        "print('MLP Classifier Prediction on the test set',testSet)\n",
        "print(\"is :\",prediction)\n",
        "testSet = [[1,0,1,0,1,0,0,0,1,0,0,1,0]]\n",
        "test = pd.DataFrame(testSet)\n",
        "predictions = classifier.predict(test)\n",
        "prediction=\"\"\n",
        "if(predictions==1):\n",
        "  prediction=\"Medium\"\n",
        "elif(predictions==2):\n",
        "  prediction=\"High\"\n",
        "else:\n",
        "  prediction=\"Low\"\n",
        "print('MLP Classifier Prediction on the test set',testSet)\n",
        "print(\"is :\",prediction)\n",
        "testSet = [[1,0,1,0,1,1,0,0,1,0,1,1,0]]\n",
        "test = pd.DataFrame(testSet)\n",
        "predictions = classifier.predict(test)\n",
        "prediction=\"\"\n",
        "if(predictions==1):\n",
        "  prediction=\"Medium\"\n",
        "elif(predictions==2):\n",
        "  prediction=\"High\"\n",
        "else:\n",
        "  prediction=\"Low\"\n",
        "print('MLP Classifier Prediction on the test set',testSet) \n",
        "print(\"is :\",prediction)\n",
        "testSet = [[1,0,0,0,0,0,0,0,0,0,0,1,1]]\n",
        "test = pd.DataFrame(testSet)\n",
        "predictions = classifier.predict(test)\n",
        "prediction=\"\"\n",
        "if(predictions==1):\n",
        "  prediction=\"Medium\"\n",
        "elif(predictions==2):\n",
        "  prediction=\"High\"\n",
        "else:\n",
        "  prediction=\"Low\"\n",
        "print('MLP Classifier Prediction on the test set',testSet) \n",
        "print(\"is :\",prediction)\n",
        "testSet = [[1,1,1,1,0,1,0,0,0,1,0,1,0]]\n",
        "test = pd.DataFrame(testSet)\n",
        "predictions = classifier.predict(test)\n",
        "prediction=\"\"\n",
        "if(predictions==1):\n",
        "  prediction=\"Medium\"\n",
        "elif(predictions==2):\n",
        "  prediction=\"High\"\n",
        "else:\n",
        "  prediction=\"Low\"\n",
        "print('MLP Classifier Prediction on the test set',testSet) \n",
        "print(\"is :\",prediction)\n",
        "testSet = [[1,1,1,0,0,1,0,1,0,1,1,0,0]]\n",
        "test = pd.DataFrame(testSet)\n",
        "predictions = classifier.predict(test)\n",
        "prediction=\"\"\n",
        "if(predictions==1):\n",
        "  prediction=\"Medium\"\n",
        "elif(predictions==2):\n",
        "  prediction=\"High\"\n",
        "else:\n",
        "  prediction=\"Low\"\n",
        "print('MLP Classifier Prediction on the test set',testSet) \n",
        "print(\"is :\",prediction)\n"
      ]
    },
    {
      "cell_type": "markdown",
      "metadata": {
        "id": "TK2p4BZEju3D"
      },
      "source": [
        "###**NAIVE BAYES CLASSIFICATION**"
      ]
    },
    {
      "cell_type": "code",
      "execution_count": null,
      "metadata": {
        "id": "Y_nq1xZzjssV"
      },
      "outputs": [],
      "source": [
        "inputs = data[:,:-1]\n",
        "outputs = data[:, -1]\n",
        "training_inputs = inputs[:2880]\n",
        "training_outputs = outputs[:2880]\n",
        "testing_inputs = inputs[720:1440]\n",
        "testing_outputs = outputs[720:1440]\n"
      ]
    },
    {
      "cell_type": "code",
      "execution_count": null,
      "metadata": {
        "colab": {
          "base_uri": "https://localhost:8080/"
        },
        "id": "ZbdRCfF6js7k",
        "outputId": "74786b2c-7226-4f81-a906-cec9bddbc4d4"
      },
      "outputs": [
        {
          "output_type": "stream",
          "name": "stdout",
          "text": [
            "              precision    recall  f1-score   support\n",
            "\n",
            "           0       1.00      0.06      0.12        32\n",
            "           1       0.87      1.00      0.93       606\n",
            "           2       1.00      0.30      0.47        82\n",
            "\n",
            "    accuracy                           0.88       720\n",
            "   macro avg       0.96      0.46      0.51       720\n",
            "weighted avg       0.89      0.88      0.84       720\n",
            "\n"
          ]
        }
      ],
      "source": [
        "classifier = BernoulliNB()\n",
        "classifier.fit(training_inputs, training_outputs)\n",
        "predictions = classifier.predict(testing_inputs)\n",
        "print(classification_report(testing_outputs,predictions,target_names=None))"
      ]
    },
    {
      "cell_type": "code",
      "execution_count": null,
      "metadata": {
        "colab": {
          "base_uri": "https://localhost:8080/"
        },
        "id": "EoWEJXT9js-0",
        "outputId": "4defa0db-7d73-40b0-d768-7ff4e5749f02"
      },
      "outputs": [
        {
          "output_type": "stream",
          "name": "stdout",
          "text": [
            "MLP PERFORMANCE METRICS :\n",
            "Accuracy: 87.91666666666667\n",
            "Recall :100.0\n",
            "Precision : 87.44588744588745\n",
            "f1Score : 93.3025404157044\n"
          ]
        }
      ],
      "source": [
        "accuracy = 100.0 * accuracy_score(testing_outputs, predictions)\n",
        "recall=100*recall_score(testing_outputs, predictions,average=None)\n",
        "precision=100*precision_score(testing_outputs, predictions,average=None) \n",
        "f1score=100*f1_score(testing_outputs, predictions,average=None) \n",
        "print(\"MLP PERFORMANCE METRICS :\")                                        \n",
        "print (\"Accuracy: \" + str(accuracy))\n",
        "print (\"Recall :\" + str(recall[1]))\n",
        "print (\"Precision : \" + str(precision[1]))\n",
        "print (\"f1Score : \" + str(f1score[1]))"
      ]
    },
    {
      "cell_type": "code",
      "execution_count": null,
      "metadata": {
        "id": "ttA_U4JSjtB1",
        "colab": {
          "base_uri": "https://localhost:8080/"
        },
        "outputId": "86dfd975-08d9-4603-d86a-fef3b29b22cb"
      },
      "outputs": [
        {
          "output_type": "stream",
          "name": "stdout",
          "text": [
            "Naïve Bayes  Classifier Prediction on the test set [[1, 0, 1, 0, 1, 1, 0, 1, 0, 1, 1, 1, 0]]\n",
            "is : Medium\n",
            "Naïve Bayes  Classifier Prediction on the test set [[0, 1, 1, 0, 1, 0, 0, 1, 1, 0, 1, 0, 0]]\n",
            "is : Medium\n",
            "Naïve Bayes  Classifier Prediction on the test set [[1, 1, 0, 0, 0, 0, 0, 0, 0, 1, 1, 1, 0]]\n",
            "is : Medium\n",
            "Naïve Bayes  Classifier Prediction on the test set [[1, 0, 1, 1, 0, 1, 0, 0, 1, 0, 0, 1, 1]]\n",
            "is : Medium\n",
            "Naïve Bayes  Classifier Prediction on the test set [[1, 1, 1, 1, 0, 0, 0, 1, 0, 0, 1, 0, 0]]\n",
            "is : Medium\n",
            "Naïve Bayes  Classifier Prediction on the test set [[1, 0, 1, 0, 1, 0, 0, 0, 1, 0, 0, 1, 0]]\n",
            "is : Medium\n",
            "Naïve Bayes  Classifier Prediction on the test set [[1, 0, 1, 0, 1, 1, 0, 0, 1, 0, 1, 1, 0]]\n",
            "is : Medium\n",
            "Naïve Bayes  Classifier Prediction on the test set [[1, 0, 0, 0, 0, 0, 0, 0, 0, 0, 0, 1, 1]]\n",
            "is : Medium\n",
            "Naïve Bayes  Classifier Prediction on the test set [[1, 1, 1, 1, 0, 1, 0, 0, 0, 1, 0, 1, 0]]\n",
            "is : Medium\n",
            "Naïve Bayes  Classifier Prediction on the test set [[1, 1, 1, 0, 0, 1, 0, 1, 0, 1, 1, 0, 0]]\n",
            "is : Medium\n"
          ]
        }
      ],
      "source": [
        "testSet = [[1,0,1,0,1,1,0,1,0,1,1,1,0]]\n",
        "test = pd.DataFrame(testSet)\n",
        "predictions = classifier.predict(test)\n",
        "prediction=\"\"\n",
        "if(predictions==1):\n",
        "  prediction=\"Medium\"\n",
        "elif(predictions==2):\n",
        "  prediction=\"High\"\n",
        "else:\n",
        "  prediction=\"Low\"\n",
        "print('Naïve Bayes  Classifier Prediction on the test set',testSet)\n",
        "print(\"is :\",prediction)\n",
        "testSet = [[0,1,1,0,1,0,0,1,1,0,1,0,0]]\n",
        "test = pd.DataFrame(testSet)\n",
        "predictions = classifier.predict(test)\n",
        "prediction=\"\"\n",
        "if(predictions==1):\n",
        "  prediction=\"Medium\"\n",
        "elif(predictions==2):\n",
        "  prediction=\"High\"\n",
        "else:\n",
        "  prediction=\"Low\"\n",
        "print('Naïve Bayes  Classifier Prediction on the test set',testSet) \n",
        "print(\"is :\",prediction)\n",
        "testSet = [[1,1,0,0,0,0,0,0,0,1,1,1,0]]\n",
        "test = pd.DataFrame(testSet)\n",
        "predictions = classifier.predict(test)\n",
        "prediction=\"\"\n",
        "if(predictions==1):\n",
        "  prediction=\"Medium\"\n",
        "elif(predictions==2):\n",
        "  prediction=\"High\"\n",
        "else:\n",
        "  prediction=\"Low\"\n",
        "print('Naïve Bayes  Classifier Prediction on the test set',testSet)\n",
        "print(\"is :\",prediction)\n",
        "testSet = [[1,0,1,1,0,1,0,0,1,0,0,1,1]]\n",
        "test = pd.DataFrame(testSet)\n",
        "predictions = classifier.predict(test)\n",
        "prediction=\"\"\n",
        "if(predictions==1):\n",
        "  prediction=\"Medium\"\n",
        "elif(predictions==2):\n",
        "  prediction=\"High\"\n",
        "else:\n",
        "  prediction=\"Low\"\n",
        "print('Naïve Bayes  Classifier Prediction on the test set',testSet)\n",
        "print(\"is :\",prediction)\n",
        "testSet = [[1,1,1,1,0,0,0,1,0,0,1,0,0]]\n",
        "test = pd.DataFrame(testSet)\n",
        "predictions = classifier.predict(test)\n",
        "prediction=\"\"\n",
        "if(predictions==1):\n",
        "  prediction=\"Medium\"\n",
        "elif(predictions==2):\n",
        "  prediction=\"High\"\n",
        "else:\n",
        "  prediction=\"Low\"\n",
        "print('Naïve Bayes  Classifier Prediction on the test set',testSet)\n",
        "print(\"is :\",prediction)\n",
        "testSet = [[1,0,1,0,1,0,0,0,1,0,0,1,0]]\n",
        "test = pd.DataFrame(testSet)\n",
        "predictions = classifier.predict(test)\n",
        "prediction=\"\"\n",
        "if(predictions==1):\n",
        "  prediction=\"Medium\"\n",
        "elif(predictions==2):\n",
        "  prediction=\"High\"\n",
        "else:\n",
        "  prediction=\"Low\"\n",
        "print('Naïve Bayes  Classifier Prediction on the test set',testSet)\n",
        "print(\"is :\",prediction)\n",
        "testSet = [[1,0,1,0,1,1,0,0,1,0,1,1,0]]\n",
        "test = pd.DataFrame(testSet)\n",
        "predictions = classifier.predict(test)\n",
        "prediction=\"\"\n",
        "if(predictions==1):\n",
        "  prediction=\"Medium\"\n",
        "elif(predictions==2):\n",
        "  prediction=\"High\"\n",
        "else:\n",
        "  prediction=\"Low\"\n",
        "print('Naïve Bayes  Classifier Prediction on the test set',testSet) \n",
        "print(\"is :\",prediction)\n",
        "testSet = [[1,0,0,0,0,0,0,0,0,0,0,1,1]]\n",
        "test = pd.DataFrame(testSet)\n",
        "predictions = classifier.predict(test)\n",
        "prediction=\"\"\n",
        "if(predictions==1):\n",
        "  prediction=\"Medium\"\n",
        "elif(predictions==2):\n",
        "  prediction=\"High\"\n",
        "else:\n",
        "  prediction=\"Low\"\n",
        "print('Naïve Bayes  Classifier Prediction on the test set',testSet) \n",
        "print(\"is :\",prediction)\n",
        "testSet = [[1,1,1,1,0,1,0,0,0,1,0,1,0]]\n",
        "test = pd.DataFrame(testSet)\n",
        "predictions = classifier.predict(test)\n",
        "prediction=\"\"\n",
        "if(predictions==1):\n",
        "  prediction=\"Medium\"\n",
        "elif(predictions==2):\n",
        "  prediction=\"High\"\n",
        "else:\n",
        "  prediction=\"Low\"\n",
        "print('Naïve Bayes  Classifier Prediction on the test set',testSet) \n",
        "print(\"is :\",prediction)\n",
        "testSet = [[1,1,1,0,0,1,0,1,0,1,1,0,0]]\n",
        "test = pd.DataFrame(testSet)\n",
        "predictions = classifier.predict(test)\n",
        "prediction=\"\"\n",
        "if(predictions==1):\n",
        "  prediction=\"Medium\"\n",
        "elif(predictions==2):\n",
        "  prediction=\"High\"\n",
        "else:\n",
        "  prediction=\"Low\"\n",
        "print('Naïve Bayes  Classifier Prediction on the test set',testSet) \n",
        "print(\"is :\",prediction)\n"
      ]
    },
    {
      "cell_type": "code",
      "execution_count": null,
      "metadata": {
        "id": "ZHQIRVapjtEO"
      },
      "outputs": [],
      "source": [
        ""
      ]
    }
  ],
  "metadata": {
    "accelerator": "GPU",
    "colab": {
      "collapsed_sections": [],
      "name": "Naive Bayes,MLP Classifier(Multi Layer Perceptron)-Modifications (Medium).ipynb",
      "provenance": []
    },
    "kernelspec": {
      "display_name": "Python 3",
      "name": "python3"
    },
    "language_info": {
      "name": "python"
    }
  },
  "nbformat": 4,
  "nbformat_minor": 0
}