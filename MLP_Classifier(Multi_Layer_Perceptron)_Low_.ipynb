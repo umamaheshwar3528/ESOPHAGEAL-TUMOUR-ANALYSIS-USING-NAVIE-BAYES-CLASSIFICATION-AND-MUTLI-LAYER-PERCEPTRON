{
 "cells": [
  {
   "cell_type": "markdown",
   "metadata": {
    "id": "gFv4v3wuEg7l"
   },
   "source": [
    "**IMPORTING MODULES**"
   ]
  },
  {
   "cell_type": "code",
   "execution_count": null,
   "metadata": {
    "id": "uNwKiTSJ91kX"
   },
   "outputs": [],
   "source": [
    "import numpy as np\n",
    "import pandas as pd\n",
    "from sklearn import *\n",
    "from sklearn.neural_network import MLPClassifier\n",
    "from sklearn.naive_bayes import BernoulliNB\n",
    "from sklearn.metrics import (accuracy_score,recall_score,precision_score,f1_score)\n",
    "from sklearn.metrics import classification_report"
   ]
  },
  {
   "cell_type": "markdown",
   "metadata": {
    "id": "7k4oJrGXEp5h"
   },
   "source": [
    "**DATA PROCESSING**\n"
   ]
  },
  {
   "cell_type": "code",
   "execution_count": null,
   "metadata": {
    "colab": {
     "base_uri": "https://localhost:8080/"
    },
    "id": "kzrWPxpm-kM7",
    "outputId": "5072caf7-83aa-41e4-e804-1cbae58d8ed2"
   },
   "outputs": [
    {
     "name": "stdout",
     "output_type": "stream",
     "text": [
      "  Patient_ID  Temparature              Chills           Swallowing  \\\n",
      "0     149097        101.4  NoLowIntenseChills  DifficultSwallowing   \n",
      "1     149098         99.4  NoLowIntenseChills  DifficultSwallowing   \n",
      "2     149112         98.1    LowIntenseChills       EasySwallowing   \n",
      "3     149119         97.7    LowIntenseChills  DifficultSwallowing   \n",
      "4     149122         98.3    LowIntenseChills  DifficultSwallowing   \n",
      "\n",
      "          FoodFlow        StomachFeel  PainInThroat  PainInChest  \\\n",
      "0  FoodNotStucking  NoFullnessFeeling    ThroatPain    ChestPain   \n",
      "1  FoodNotStucking    FullnessFeeling    ThroatPain  NoChestPain   \n",
      "2     FoodStucking    FullnessFeeling    ThroatPain    ChestPain   \n",
      "3  FoodNotStucking    FullnessFeeling  NoThroatPain  NoChestPain   \n",
      "4  FoodNotStucking  NoFullnessFeeling    ThroatPain    ChestPain   \n",
      "\n",
      "    PainDuration         Cough    Digestion     Apetite          Sleep  \\\n",
      "0  ShortTimePain       NoCough  DigestionOK   ApetiteOK    AbleToSleep   \n",
      "1   LongTimePain       NoCough  Indigestion  LowApetite  UnableToSleep   \n",
      "2  ShortTimePain  ChronicCough  DigestionOK   ApetiteOK    AbleToSleep   \n",
      "3   LongTimePain  ChronicCough  DigestionOK  LowApetite    AbleToSleep   \n",
      "4  ShortTimePain  ChronicCough  Indigestion   ApetiteOK  UnableToSleep   \n",
      "\n",
      "              Shakes Probability  \n",
      "0          NoShaking         Low  \n",
      "1          NoShaking      Medium  \n",
      "2  ShakingwithChills      Medium  \n",
      "3  ShakingwithChills      Medium  \n",
      "4          NoShaking      Medium  \n",
      "Patient_ID      0\n",
      "Temparature     0\n",
      "Chills          0\n",
      "Swallowing      0\n",
      "FoodFlow        0\n",
      "StomachFeel     0\n",
      "PainInThroat    0\n",
      "PainInChest     0\n",
      "PainDuration    0\n",
      "Cough           0\n",
      "Digestion       0\n",
      "Apetite         0\n",
      "Sleep           0\n",
      "Shakes          0\n",
      "Probability     0\n",
      "dtype: int64\n"
     ]
    }
   ],
   "source": [
    "df = pd.read_csv('/content/drive/MyDrive/Major Project Dataset/esopset.csv')\n",
    "print(df.head())\n",
    "print(df.isnull().sum())"
   ]
  },
  {
   "cell_type": "code",
   "execution_count": null,
   "metadata": {
    "colab": {
     "base_uri": "https://localhost:8080/"
    },
    "id": "jiIwU9iRODmo",
    "outputId": "f9686366-0333-4e95-d4a0-1aea0ba47e25"
   },
   "outputs": [
    {
     "name": "stdout",
     "output_type": "stream",
     "text": [
      "Drive already mounted at /content/drive; to attempt to forcibly remount, call drive.mount(\"/content/drive\", force_remount=True).\n"
     ]
    }
   ],
   "source": [
    "from google.colab import drive\n",
    "drive.mount('/content/drive')"
   ]
  },
  {
   "cell_type": "code",
   "execution_count": null,
   "metadata": {
    "id": "TfLqkuEu9DOe"
   },
   "outputs": [],
   "source": [
    "bins = [96.0,98.4,105.0]\n",
    "names = ['NormalTemp', 'Fever']\n",
    "df['Temparature'] = pd.cut(df['Temparature'], bins, labels=names)\n",
    "df[\"Temparature\"] = df[\"Temparature\"].map({'Fever':1,'NormalTemp':0})\n",
    "df[\"Chills\"] = df[\"Chills\"].map({'LowIntenseChills':1,'NoLowIntenseChills':0})\n",
    "df[\"Swallowing\"] = df[\"Swallowing\"].map({'DifficultSwallowing':1,'EasySwallowing':0})\n",
    "df[\"FoodFlow\"] = df[\"FoodFlow\"].map({'FoodStucking':1,'FoodNotStucking':0})\n",
    "df[\"StomachFeel\"] = df[\"StomachFeel\"].map({'FullnessFeeling':1,'NoFullnessFeeling':0})\n",
    "df[\"PainInThroat\"] = df[\"PainInThroat\"].map({'ThroatPain':1,'NoThroatPain':0})\n",
    "df[\"PainInChest\"] = df[\"PainInChest\"].map({'ChestPain':1,'NoChestPain':0})\n",
    "df[\"PainDuration\"] = df[\"PainDuration\"].map({'LongTimePain':1,'ShortTimePain':0})\n",
    "df[\"Cough\"] = df[\"Cough\"].map({'ChronicCough':1,'NoCough':0})\n",
    "df[\"Digestion\"] = df[\"Digestion\"].map({'Indigestion':1,'DigestionOK':0})\n",
    "df[\"Apetite\"] = df[\"Apetite\"].map({'LowApetite':1,'ApetiteOK':0})\n",
    "df[\"Sleep\"] = df[\"Sleep\"].map({'UnableToSleep':1,'AbleToSleep':0})\n",
    "df[\"Shakes\"] = df[\"Shakes\"].map({'ShakingwithChills':1,'NoShaking':0})\n",
    "df[\"Probability\"] = df[\"Probability\"].map({'High':2,'Medium':1,'Low':0})\n",
    "data = df[[\"Temparature\",\"Chills\",\"Swallowing\",\"FoodFlow\",\"StomachFeel\",\"PainInThroat\",\"PainInChest\",\"PainDuration\",\"Cough\",\"Digestion\",\"Apetite\",\"Sleep\",\"Shakes\",\"Probability\"]].to_numpy()\n"
   ]
  },
  {
   "cell_type": "markdown",
   "metadata": {
    "id": "82zXwMGGPP8D"
   },
   "source": [
    "**TRAINING AND TESTING**"
   ]
  },
  {
   "cell_type": "code",
   "execution_count": null,
   "metadata": {
    "id": "cusodsu--kPl"
   },
   "outputs": [],
   "source": [
    "inputs = data[:,:-1]\n",
    "outputs = data[:, -1]\n",
    "training_inputs = inputs[:2880]\n",
    "training_outputs = outputs[:2880]\n",
    "testing_inputs = inputs[720:1440]\n",
    "testing_outputs = outputs[720:1440]\n"
   ]
  },
  {
   "cell_type": "code",
   "execution_count": null,
   "metadata": {
    "colab": {
     "base_uri": "https://localhost:8080/",
     "height": 270
    },
    "id": "vROBOyrxaTaF",
    "outputId": "84c207e2-0d21-4de8-d946-80676ff58162"
   },
   "outputs": [
    {
     "data": {
      "text/html": [
       "\n",
       "  <div id=\"df-f1cab21e-ce9c-43db-a510-6f116f916d2e\">\n",
       "    <div class=\"colab-df-container\">\n",
       "      <div>\n",
       "<style scoped>\n",
       "    .dataframe tbody tr th:only-of-type {\n",
       "        vertical-align: middle;\n",
       "    }\n",
       "\n",
       "    .dataframe tbody tr th {\n",
       "        vertical-align: top;\n",
       "    }\n",
       "\n",
       "    .dataframe thead th {\n",
       "        text-align: right;\n",
       "    }\n",
       "</style>\n",
       "<table border=\"1\" class=\"dataframe\">\n",
       "  <thead>\n",
       "    <tr style=\"text-align: right;\">\n",
       "      <th></th>\n",
       "      <th>Patient_ID</th>\n",
       "      <th>Temparature</th>\n",
       "      <th>Chills</th>\n",
       "      <th>Swallowing</th>\n",
       "      <th>FoodFlow</th>\n",
       "      <th>StomachFeel</th>\n",
       "      <th>PainInThroat</th>\n",
       "      <th>PainInChest</th>\n",
       "      <th>PainDuration</th>\n",
       "      <th>Cough</th>\n",
       "      <th>Digestion</th>\n",
       "      <th>Apetite</th>\n",
       "      <th>Sleep</th>\n",
       "      <th>Shakes</th>\n",
       "      <th>Probability</th>\n",
       "    </tr>\n",
       "  </thead>\n",
       "  <tbody>\n",
       "    <tr>\n",
       "      <th>0</th>\n",
       "      <td>149097</td>\n",
       "      <td>1</td>\n",
       "      <td>0</td>\n",
       "      <td>1</td>\n",
       "      <td>0</td>\n",
       "      <td>0</td>\n",
       "      <td>1</td>\n",
       "      <td>1</td>\n",
       "      <td>0</td>\n",
       "      <td>0</td>\n",
       "      <td>0</td>\n",
       "      <td>0</td>\n",
       "      <td>0</td>\n",
       "      <td>0</td>\n",
       "      <td>0</td>\n",
       "    </tr>\n",
       "    <tr>\n",
       "      <th>1</th>\n",
       "      <td>149098</td>\n",
       "      <td>1</td>\n",
       "      <td>0</td>\n",
       "      <td>1</td>\n",
       "      <td>0</td>\n",
       "      <td>1</td>\n",
       "      <td>1</td>\n",
       "      <td>0</td>\n",
       "      <td>1</td>\n",
       "      <td>0</td>\n",
       "      <td>1</td>\n",
       "      <td>1</td>\n",
       "      <td>1</td>\n",
       "      <td>0</td>\n",
       "      <td>1</td>\n",
       "    </tr>\n",
       "    <tr>\n",
       "      <th>2</th>\n",
       "      <td>149112</td>\n",
       "      <td>0</td>\n",
       "      <td>1</td>\n",
       "      <td>0</td>\n",
       "      <td>1</td>\n",
       "      <td>1</td>\n",
       "      <td>1</td>\n",
       "      <td>1</td>\n",
       "      <td>0</td>\n",
       "      <td>1</td>\n",
       "      <td>0</td>\n",
       "      <td>0</td>\n",
       "      <td>0</td>\n",
       "      <td>1</td>\n",
       "      <td>1</td>\n",
       "    </tr>\n",
       "    <tr>\n",
       "      <th>3</th>\n",
       "      <td>149119</td>\n",
       "      <td>0</td>\n",
       "      <td>1</td>\n",
       "      <td>1</td>\n",
       "      <td>0</td>\n",
       "      <td>1</td>\n",
       "      <td>0</td>\n",
       "      <td>0</td>\n",
       "      <td>1</td>\n",
       "      <td>1</td>\n",
       "      <td>0</td>\n",
       "      <td>1</td>\n",
       "      <td>0</td>\n",
       "      <td>1</td>\n",
       "      <td>1</td>\n",
       "    </tr>\n",
       "    <tr>\n",
       "      <th>4</th>\n",
       "      <td>149122</td>\n",
       "      <td>0</td>\n",
       "      <td>1</td>\n",
       "      <td>1</td>\n",
       "      <td>0</td>\n",
       "      <td>0</td>\n",
       "      <td>1</td>\n",
       "      <td>1</td>\n",
       "      <td>0</td>\n",
       "      <td>1</td>\n",
       "      <td>1</td>\n",
       "      <td>0</td>\n",
       "      <td>1</td>\n",
       "      <td>0</td>\n",
       "      <td>1</td>\n",
       "    </tr>\n",
       "  </tbody>\n",
       "</table>\n",
       "</div>\n",
       "      <button class=\"colab-df-convert\" onclick=\"convertToInteractive('df-f1cab21e-ce9c-43db-a510-6f116f916d2e')\"\n",
       "              title=\"Convert this dataframe to an interactive table.\"\n",
       "              style=\"display:none;\">\n",
       "        \n",
       "  <svg xmlns=\"http://www.w3.org/2000/svg\" height=\"24px\"viewBox=\"0 0 24 24\"\n",
       "       width=\"24px\">\n",
       "    <path d=\"M0 0h24v24H0V0z\" fill=\"none\"/>\n",
       "    <path d=\"M18.56 5.44l.94 2.06.94-2.06 2.06-.94-2.06-.94-.94-2.06-.94 2.06-2.06.94zm-11 1L8.5 8.5l.94-2.06 2.06-.94-2.06-.94L8.5 2.5l-.94 2.06-2.06.94zm10 10l.94 2.06.94-2.06 2.06-.94-2.06-.94-.94-2.06-.94 2.06-2.06.94z\"/><path d=\"M17.41 7.96l-1.37-1.37c-.4-.4-.92-.59-1.43-.59-.52 0-1.04.2-1.43.59L10.3 9.45l-7.72 7.72c-.78.78-.78 2.05 0 2.83L4 21.41c.39.39.9.59 1.41.59.51 0 1.02-.2 1.41-.59l7.78-7.78 2.81-2.81c.8-.78.8-2.07 0-2.86zM5.41 20L4 18.59l7.72-7.72 1.47 1.35L5.41 20z\"/>\n",
       "  </svg>\n",
       "      </button>\n",
       "      \n",
       "  <style>\n",
       "    .colab-df-container {\n",
       "      display:flex;\n",
       "      flex-wrap:wrap;\n",
       "      gap: 12px;\n",
       "    }\n",
       "\n",
       "    .colab-df-convert {\n",
       "      background-color: #E8F0FE;\n",
       "      border: none;\n",
       "      border-radius: 50%;\n",
       "      cursor: pointer;\n",
       "      display: none;\n",
       "      fill: #1967D2;\n",
       "      height: 32px;\n",
       "      padding: 0 0 0 0;\n",
       "      width: 32px;\n",
       "    }\n",
       "\n",
       "    .colab-df-convert:hover {\n",
       "      background-color: #E2EBFA;\n",
       "      box-shadow: 0px 1px 2px rgba(60, 64, 67, 0.3), 0px 1px 3px 1px rgba(60, 64, 67, 0.15);\n",
       "      fill: #174EA6;\n",
       "    }\n",
       "\n",
       "    [theme=dark] .colab-df-convert {\n",
       "      background-color: #3B4455;\n",
       "      fill: #D2E3FC;\n",
       "    }\n",
       "\n",
       "    [theme=dark] .colab-df-convert:hover {\n",
       "      background-color: #434B5C;\n",
       "      box-shadow: 0px 1px 3px 1px rgba(0, 0, 0, 0.15);\n",
       "      filter: drop-shadow(0px 1px 2px rgba(0, 0, 0, 0.3));\n",
       "      fill: #FFFFFF;\n",
       "    }\n",
       "  </style>\n",
       "\n",
       "      <script>\n",
       "        const buttonEl =\n",
       "          document.querySelector('#df-f1cab21e-ce9c-43db-a510-6f116f916d2e button.colab-df-convert');\n",
       "        buttonEl.style.display =\n",
       "          google.colab.kernel.accessAllowed ? 'block' : 'none';\n",
       "\n",
       "        async function convertToInteractive(key) {\n",
       "          const element = document.querySelector('#df-f1cab21e-ce9c-43db-a510-6f116f916d2e');\n",
       "          const dataTable =\n",
       "            await google.colab.kernel.invokeFunction('convertToInteractive',\n",
       "                                                     [key], {});\n",
       "          if (!dataTable) return;\n",
       "\n",
       "          const docLinkHtml = 'Like what you see? Visit the ' +\n",
       "            '<a target=\"_blank\" href=https://colab.research.google.com/notebooks/data_table.ipynb>data table notebook</a>'\n",
       "            + ' to learn more about interactive tables.';\n",
       "          element.innerHTML = '';\n",
       "          dataTable['output_type'] = 'display_data';\n",
       "          await google.colab.output.renderOutput(dataTable, element);\n",
       "          const docLink = document.createElement('div');\n",
       "          docLink.innerHTML = docLinkHtml;\n",
       "          element.appendChild(docLink);\n",
       "        }\n",
       "      </script>\n",
       "    </div>\n",
       "  </div>\n",
       "  "
      ],
      "text/plain": [
       "  Patient_ID Temparature  Chills  Swallowing  FoodFlow  StomachFeel  \\\n",
       "0     149097           1       0           1         0            0   \n",
       "1     149098           1       0           1         0            1   \n",
       "2     149112           0       1           0         1            1   \n",
       "3     149119           0       1           1         0            1   \n",
       "4     149122           0       1           1         0            0   \n",
       "\n",
       "   PainInThroat  PainInChest  PainDuration  Cough  Digestion  Apetite  Sleep  \\\n",
       "0             1            1             0      0          0        0      0   \n",
       "1             1            0             1      0          1        1      1   \n",
       "2             1            1             0      1          0        0      0   \n",
       "3             0            0             1      1          0        1      0   \n",
       "4             1            1             0      1          1        0      1   \n",
       "\n",
       "   Shakes  Probability  \n",
       "0       0            0  \n",
       "1       0            1  \n",
       "2       1            1  \n",
       "3       1            1  \n",
       "4       0            1  "
      ]
     },
     "execution_count": 9,
     "metadata": {},
     "output_type": "execute_result"
    }
   ],
   "source": [
    "df.head()\n"
   ]
  },
  {
   "cell_type": "markdown",
   "metadata": {
    "id": "Iwnmguw_3ODb"
   },
   "source": [
    "### **MLP CLASSIFIER**"
   ]
  },
  {
   "cell_type": "code",
   "execution_count": null,
   "metadata": {
    "colab": {
     "base_uri": "https://localhost:8080/"
    },
    "id": "zdyoWtin3O2D",
    "outputId": "e6b336ee-1d59-4f39-b379-7de115898a74"
   },
   "outputs": [
    {
     "name": "stdout",
     "output_type": "stream",
     "text": [
      "              precision    recall  f1-score   support\n",
      "\n",
      "           0       0.97      1.00      0.98        32\n",
      "           1       0.99      1.00      0.99       606\n",
      "           2       0.97      0.90      0.94        82\n",
      "\n",
      "    accuracy                           0.98       720\n",
      "   macro avg       0.98      0.97      0.97       720\n",
      "weighted avg       0.98      0.98      0.98       720\n",
      "\n"
     ]
    }
   ],
   "source": [
    "classifier =MLPClassifier(max_iter=500,activation=\"relu\") \n",
    "classifier.fit(training_inputs, training_outputs)\n",
    "predictions = classifier.predict(testing_inputs)\n",
    "print(classification_report(testing_outputs,predictions,target_names=None))\n"
   ]
  },
  {
   "cell_type": "markdown",
   "metadata": {
    "id": "e5T8t0tfE7Q0"
   },
   "source": [
    "**PERFORMANCE METRICS**"
   ]
  },
  {
   "cell_type": "code",
   "execution_count": null,
   "metadata": {
    "colab": {
     "base_uri": "https://localhost:8080/"
    },
    "id": "9nPnrYgV-kSI",
    "outputId": "86a23d2d-dc86-4b5c-f21c-5e07164009aa"
   },
   "outputs": [
    {
     "name": "stdout",
     "output_type": "stream",
     "text": [
      "MLP PERFORMANCE METRICS :\n",
      "Accuracy: 98.47222222222223\n",
      "Recall :99.5049504950495\n",
      "Precision : 98.69067103109657\n",
      "f1Score : 99.0961380443714\n"
     ]
    }
   ],
   "source": [
    "accuracy = 100.0 * accuracy_score(testing_outputs, predictions)\n",
    "recall=100*recall_score(testing_outputs, predictions,average=None)\n",
    "precision=100*precision_score(testing_outputs, predictions,average=None) \n",
    "f1score=100*f1_score(testing_outputs, predictions,average=None) \n",
    "print(\"MLP PERFORMANCE METRICS :\")                                        \n",
    "print (\"Accuracy: \" + str(accuracy))\n",
    "print (\"Recall :\" + str(recall[1]))\n",
    "print (\"Precision : \" + str(precision[1]))\n",
    "print (\"f1Score : \" + str(f1score[1]))"
   ]
  },
  {
   "cell_type": "markdown",
   "metadata": {
    "id": "-IrnVEecwE4M"
   },
   "source": [
    "**PREDICTION**"
   ]
  },
  {
   "cell_type": "code",
   "execution_count": null,
   "metadata": {
    "colab": {
     "base_uri": "https://localhost:8080/"
    },
    "id": "nxmbHENcwN30",
    "outputId": "b1587b6b-4dd3-4d68-82ca-e3d86cad12b6"
   },
   "outputs": [
    {
     "name": "stdout",
     "output_type": "stream",
     "text": [
      "MLPClassifier Prediction on the test set [[1, 0, 1, 0, 0, 1, 1, 0, 0, 0, 0, 0, 0]]\n",
      "is : Low\n",
      "MLPClassifier Prediction on the test set [[0, 0, 0, 0, 0, 0, 1, 0, 0, 1, 0, 0, 0]]\n",
      "is : Low\n",
      "MLPClassifier Prediction on the test set [[1, 0, 1, 1, 0, 0, 1, 0, 0, 1, 0, 0, 0]]\n",
      "is : Medium\n",
      "MLPClassifier Prediction on the test set [[1, 0, 0, 0, 0, 1, 0, 0, 0, 0, 0, 0, 1]]\n",
      "is : Low\n",
      "MLPClassifier Prediction on the test set [[1, 1, 0, 0, 0, 0, 0, 0, 1, 0, 1, 0, 0]]\n",
      "is : Low\n",
      "MLPClassifier Prediction on the test set [[1, 0, 0, 1, 0, 0, 0, 0, 0, 0, 1, 0, 0]]\n",
      "is : Low\n",
      "MLPClassifier Prediction on the test set [[1, 0, 0, 0, 0, 1, 0, 0, 0, 0, 1, 1, 0]]\n",
      "is : Low\n",
      "MLPClassifier Prediction on the test set [[1, 0, 0, 0, 0, 0, 0, 0, 0, 0, 0, 1, 1]]\n",
      "is : Low\n",
      "MLPClassifier Prediction on the test set [[1, 0, 0, 0, 0, 0, 1, 0, 1, 0, 0, 0, 0]]\n",
      "is : Low\n",
      "MLPClassifier Prediction on the test set [[1, 0, 0, 1, 0, 0, 0, 0, 1, 1, 0, 0, 0]]\n",
      "is : Low\n"
     ]
    }
   ],
   "source": [
    "testSet = [[1,0,1,0,0,1,1,0,0,0,0,0,0]]\n",
    "test = pd.DataFrame(testSet)\n",
    "predictions = classifier.predict(test)\n",
    "prediction=\"\"\n",
    "if(predictions==1):\n",
    "  prediction=\"Medium\"\n",
    "elif(predictions==2):\n",
    "  prediction=\"High\"\n",
    "else:\n",
    "  prediction=\"Low\"\n",
    "print('MLPClassifier Prediction on the test set',testSet)\n",
    "print(\"is :\",prediction)\n",
    "testSet = [[0,0,0,0,0,0,1,0,0,1,0,0,0]]\n",
    "test = pd.DataFrame(testSet)\n",
    "predictions = classifier.predict(test)\n",
    "prediction=\"\"\n",
    "if(predictions==1):\n",
    "  prediction=\"Medium\"\n",
    "elif(predictions==2):\n",
    "  prediction=\"High\"\n",
    "else:\n",
    "  prediction=\"Low\"\n",
    "print('MLPClassifier Prediction on the test set',testSet) \n",
    "print(\"is :\",prediction)\n",
    "testSet = [[1,0,1,1,0,0,1,0,0,1,0,0,0]]\n",
    "test = pd.DataFrame(testSet)\n",
    "predictions = classifier.predict(test)\n",
    "prediction=\"\"\n",
    "if(predictions==1):\n",
    "  prediction=\"Medium\"\n",
    "elif(predictions==2):\n",
    "  prediction=\"High\"\n",
    "else:\n",
    "  prediction=\"Low\"\n",
    "print('MLPClassifier Prediction on the test set',testSet)\n",
    "print(\"is :\",prediction)\n",
    "testSet = [[1,0,0,0,0,1,0,0,0,0,0,0,1]]\n",
    "test = pd.DataFrame(testSet)\n",
    "predictions = classifier.predict(test)\n",
    "prediction=\"\"\n",
    "if(predictions==1):\n",
    "  prediction=\"Medium\"\n",
    "elif(predictions==2):\n",
    "  prediction=\"High\"\n",
    "else:\n",
    "  prediction=\"Low\"\n",
    "print('MLPClassifier Prediction on the test set',testSet)\n",
    "print(\"is :\",prediction)\n",
    "testSet = [[1,1,0,0,0,0,0,0,1,0,1,0,0]]\n",
    "test = pd.DataFrame(testSet)\n",
    "predictions = classifier.predict(test)\n",
    "prediction=\"\"\n",
    "if(predictions==1):\n",
    "  prediction=\"Medium\"\n",
    "elif(predictions==2):\n",
    "  prediction=\"High\"\n",
    "else:\n",
    "  prediction=\"Low\"\n",
    "print('MLPClassifier Prediction on the test set',testSet)\n",
    "print(\"is :\",prediction)\n",
    "testSet = [[1,0,0,1,0,0,0,0,0,0,1,0,0]]\n",
    "test = pd.DataFrame(testSet)\n",
    "predictions = classifier.predict(test)\n",
    "prediction=\"\"\n",
    "if(predictions==1):\n",
    "  prediction=\"Medium\"\n",
    "elif(predictions==2):\n",
    "  prediction=\"High\"\n",
    "else:\n",
    "  prediction=\"Low\"\n",
    "print('MLPClassifier Prediction on the test set',testSet)\n",
    "print(\"is :\",prediction)\n",
    "testSet = [[1,0,0,0,0,1,0,0,0,0,1,1,0]]\n",
    "test = pd.DataFrame(testSet)\n",
    "predictions = classifier.predict(test)\n",
    "prediction=\"\"\n",
    "if(predictions==1):\n",
    "  prediction=\"Medium\"\n",
    "elif(predictions==2):\n",
    "  prediction=\"High\"\n",
    "else:\n",
    "  prediction=\"Low\"\n",
    "print('MLPClassifier Prediction on the test set',testSet) \n",
    "print(\"is :\",prediction)\n",
    "testSet = [[1,0,0,0,0,0,0,0,0,0,0,1,1]]\n",
    "test = pd.DataFrame(testSet)\n",
    "predictions = classifier.predict(test)\n",
    "prediction=\"\"\n",
    "if(predictions==1):\n",
    "  prediction=\"Medium\"\n",
    "elif(predictions==2):\n",
    "  prediction=\"High\"\n",
    "else:\n",
    "  prediction=\"Low\"\n",
    "print('MLPClassifier Prediction on the test set',testSet) \n",
    "print(\"is :\",prediction)\n",
    "testSet = [[1,0,0,0,0,0,1,0,1,0,0,0,0]]\n",
    "test = pd.DataFrame(testSet)\n",
    "predictions = classifier.predict(test)\n",
    "prediction=\"\"\n",
    "if(predictions==1):\n",
    "  prediction=\"Medium\"\n",
    "elif(predictions==2):\n",
    "  prediction=\"High\"\n",
    "else:\n",
    "  prediction=\"Low\"\n",
    "print('MLPClassifier Prediction on the test set',testSet) \n",
    "print(\"is :\",prediction)\n",
    "testSet = [[1,0,0,1,0,0,0,0,1,1,0,0,0]]\n",
    "test = pd.DataFrame(testSet)\n",
    "predictions = classifier.predict(test)\n",
    "prediction=\"\"\n",
    "if(predictions==1):\n",
    "  prediction=\"Medium\"\n",
    "elif(predictions==2):\n",
    "  prediction=\"High\"\n",
    "else:\n",
    "  prediction=\"Low\"\n",
    "print('MLPClassifier Prediction on the test set',testSet) \n",
    "print(\"is :\",prediction)\n"
   ]
  },
  {
   "cell_type": "code",
   "execution_count": null,
   "metadata": {
    "id": "Y_nq1xZzjssV"
   },
   "outputs": [],
   "source": []
  },
  {
   "cell_type": "code",
   "execution_count": null,
   "metadata": {
    "id": "ZbdRCfF6js7k"
   },
   "outputs": [],
   "source": []
  },
  {
   "cell_type": "code",
   "execution_count": null,
   "metadata": {
    "id": "EoWEJXT9js-0"
   },
   "outputs": [],
   "source": []
  },
  {
   "cell_type": "code",
   "execution_count": null,
   "metadata": {
    "id": "ttA_U4JSjtB1"
   },
   "outputs": [],
   "source": []
  },
  {
   "cell_type": "code",
   "execution_count": null,
   "metadata": {
    "id": "ZHQIRVapjtEO"
   },
   "outputs": [],
   "source": []
  }
 ],
 "metadata": {
  "colab": {
   "collapsed_sections": [],
   "name": " MLP Classifier(Multi Layer Perceptron) Low .ipynb",
   "provenance": []
  },
  "kernelspec": {
   "display_name": "Python 3 (ipykernel)",
   "language": "python",
   "name": "python3"
  },
  "language_info": {
   "codemirror_mode": {
    "name": "ipython",
    "version": 3
   },
   "file_extension": ".py",
   "mimetype": "text/x-python",
   "name": "python",
   "nbconvert_exporter": "python",
   "pygments_lexer": "ipython3",
   "version": "3.9.12"
  }
 },
 "nbformat": 4,
 "nbformat_minor": 1
}
